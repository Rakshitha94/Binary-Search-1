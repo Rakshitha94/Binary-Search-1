{
 "cells": [
  {
   "cell_type": "code",
   "execution_count": null,
   "metadata": {},
   "outputs": [],
   "source": [
    "def my_function(fname):\n",
    "    print(fname + \" Refsnes\")\n",
    "\n",
    "my_function(\"Emil\")\n",
    "my_function(\"Tobias\")\n",
    "my_function(\"Linus\")"
   ]
  },
  {
   "cell_type": "code",
   "execution_count": null,
   "metadata": {},
   "outputs": [],
   "source": [
    "\n",
    "    def firstandlast(self,nums,target):\n",
    "        firstindex=f_index(nums,target)\n",
    "        lastindex=l_index(nums,target)\n",
    "        print(\"f\",firstindex)\n",
    "\n",
    "    def f_index(self,nums,target):\n",
    "        low=0\n",
    "        high=len(nums)-1\n",
    "        mid=(low+high)//2\n",
    "\n",
    "        while(low<=high):\n",
    "            if nums[mid]==target:\n",
    "                if mid==low or nums[mid]>nums[mid-1]:\n",
    "                    return mid\n",
    "                else:\n",
    "                     high=mid-1\n",
    "            elif nums[mid]>target:\n",
    "                high=mid-1\n",
    "            else:\n",
    "                low=mid+1\n",
    "\n",
    "    def l_index(self,nums,target):\n",
    "        low=0\n",
    "        high=len(nums)-1\n",
    "        mid=(low+high)//2\n",
    "        while(low<=high):\n",
    "            if nums[mid]==target:\n",
    "                if high==mid or nums[mid+1]>nums[mid]:\n",
    "                     return mid\n",
    "                else:\n",
    "                     low=mid+1    \n",
    "            elif nums[mid]<target:\n",
    "                     low=mid+1\n",
    "            else:\n",
    "                     high=mid-1\n",
    "\n",
    "firstandlast([1,1,2,3,4,4,4,4,4,4,4,5],4)                "
   ]
  },
  {
   "cell_type": "code",
   "execution_count": null,
   "metadata": {},
   "outputs": [],
   "source": [
    "if __name__ == \"__main__\":\n",
    "    nums=[1,2,3,4,5,5,5,5]\n",
    "    target=5\n",
    "    print(\"jj\")\n",
    "    a=Solution()\n",
    "    a.firstandlast(nums,target)"
   ]
  },
  {
   "cell_type": "code",
   "execution_count": null,
   "metadata": {},
   "outputs": [],
   "source": []
  },
  {
   "cell_type": "code",
   "execution_count": null,
   "metadata": {},
   "outputs": [],
   "source": []
  },
  {
   "cell_type": "code",
   "execution_count": null,
   "metadata": {},
   "outputs": [],
   "source": [
    "print()"
   ]
  },
  {
   "cell_type": "code",
   "execution_count": null,
   "metadata": {},
   "outputs": [],
   "source": []
  }
 ],
 "metadata": {
  "kernelspec": {
   "display_name": "Python 3",
   "language": "python",
   "name": "python3"
  }
 },
 "nbformat": 4,
 "nbformat_minor": 2
}
